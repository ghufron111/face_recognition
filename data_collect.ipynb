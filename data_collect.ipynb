{
 "cells": [
  {
   "cell_type": "code",
   "execution_count": null,
   "id": "097e5118-aa68-42ad-b9ff-afc32e43414a",
   "metadata": {},
   "outputs": [],
   "source": [
    "import cv2\n",
    "import os\n",
    "import shutil\n",
    "import random"
   ]
  },
  {
   "cell_type": "code",
   "execution_count": null,
   "id": "186e5892-113b-4da6-8b82-9f9cfcb78a74",
   "metadata": {},
   "outputs": [],
   "source": [
    "# Fungsi untuk menyimpan gambar wajah\n",
    "def save_face_images(name, num_images=100):\n",
    "    cap = cv2.VideoCapture(0)\n",
    "    cap.set(3, 640)\n",
    "    cap.set(4, 480)\n",
    "\n",
    "    face_cascade = cv2.CascadeClassifier(cv2.data.haarcascades + 'haarcascade_frontalface_default.xml')\n",
    "    count = 0\n",
    "    folder_path = os.path.join('dataset/train', name)\n",
    "    os.makedirs(folder_path, exist_ok=True)\n",
    "\n",
    "    while True:\n",
    "        ret, frame = cap.read()\n",
    "        if not ret:\n",
    "            break\n",
    "\n",
    "        gray = cv2.cvtColor(frame, cv2.COLOR_BGR2GRAY)\n",
    "        faces = face_cascade.detectMultiScale(gray, 1.3, 5)\n",
    "\n",
    "        for (x, y, w, h) in faces:\n",
    "            count += 1\n",
    "            face = frame[y:y + h, x:x + w]\n",
    "            face = cv2.resize(face, (224, 224))\n",
    "            file_path = os.path.join(folder_path, f\"{name}_{count}.jpg\")\n",
    "            cv2.imwrite(file_path, face)\n",
    "            cv2.putText(frame, f\"Saving {count}/{num_images}\", (x, y - 10), cv2.FONT_HERSHEY_SIMPLEX, 0.75, (255, 0, 0), 2)\n",
    "\n",
    "        cv2.imshow('Frame', frame)\n",
    "        if cv2.waitKey(1) & 0xFF == ord('q') or count >= num_images:\n",
    "            break\n",
    "\n",
    "    cap.release()\n",
    "    cv2.destroyAllWindows()\n",
    "\n",
    "# Panggil fungsi untuk menyimpan gambar wajah\n",
    "save_face_images('Kroos')"
   ]
  },
  {
   "cell_type": "code",
   "execution_count": null,
   "id": "bc061b0e-b486-4dd7-bac2-896eea148888",
   "metadata": {},
   "outputs": [],
   "source": [
    "# Fungsi split dataset\n",
    "def split_dataset(train_dir, validation_dir, validation_split=0.3):\n",
    "    if not os.path.exists(validation_dir):\n",
    "        os.makedirs(validation_dir)\n",
    "\n",
    "    for category in os.listdir(train_dir):\n",
    "        category_path = os.path.join(train_dir, category)\n",
    "        if not os.path.isdir(category_path):\n",
    "            continue\n",
    "\n",
    "        images = os.listdir(category_path)\n",
    "        random.shuffle(images)\n",
    "        split_index = int(len(images) * validation_split)\n",
    "        validation_images = images[:split_index]\n",
    "\n",
    "        validation_category_path = os.path.join(validation_dir, category)\n",
    "        os.makedirs(validation_category_path, exist_ok=True)\n",
    "\n",
    "        for image in validation_images:\n",
    "            src_path = os.path.join(category_path, image)\n",
    "            dest_path = os.path.join(validation_category_path, image)\n",
    "            shutil.move(src_path, dest_path)\n",
    "\n",
    "\n",
    "# Panggil fungsi untuk memindahkan gambar ke set validasi\n",
    "split_dataset('dataset/train', 'dataset/validation')"
   ]
  }
 ],
 "metadata": {
  "kernelspec": {
   "display_name": "Python 3 (ipykernel)",
   "language": "python",
   "name": "python3"
  },
  "language_info": {
   "codemirror_mode": {
    "name": "ipython",
    "version": 3
   },
   "file_extension": ".py",
   "mimetype": "text/x-python",
   "name": "python",
   "nbconvert_exporter": "python",
   "pygments_lexer": "ipython3",
   "version": "3.12.2"
  }
 },
 "nbformat": 4,
 "nbformat_minor": 5
}
