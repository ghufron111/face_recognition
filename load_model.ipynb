{
 "cells": [
  {
   "cell_type": "code",
   "execution_count": null,
   "id": "12427ef0-0485-484a-9152-30262ea60b25",
   "metadata": {},
   "outputs": [],
   "source": [
    "import tensorflow as tf\n",
    "from tensorflow import keras\n",
    "import numpy as np\n",
    "import cv2\n",
    "from keras.models import load_model"
   ]
  },
  {
   "cell_type": "code",
   "execution_count": null,
   "id": "ebbcf6a4-488f-4928-81ed-d6ed8df4d44c",
   "metadata": {},
   "outputs": [],
   "source": [
    "# Load the face detection model\n",
    "facedetect = cv2.CascadeClassifier('haarcascade_frontalface_default.xml')\n",
    "\n",
    "# Initialize the webcam\n",
    "cap = cv2.VideoCapture(0)\n",
    "cap.set(3, 640)\n",
    "cap.set(4, 480)\n",
    "font = cv2.FONT_HERSHEY_COMPLEX\n",
    "\n",
    "# Load the trained model\n",
    "model = load_model('model/face_recognition_model_vgg16.h5')\n",
    "\n",
    "# Dapatkan label kelas dari ImageDataGenerator (dari langkah sebelumnya)\n",
    "class_names = [\"Ucid\", \"Kroos\", \"Ronaldo\", \"GT\", \"Zul\"]  # Sesuaikan dengan class_names dari langkah sebelumnya\n",
    "\n",
    "# Function to get class name from class index\n",
    "def get_className(classNo):\n",
    "    return class_names[classNo]"
   ]
  },
  {
   "cell_type": "code",
   "execution_count": null,
   "id": "2634c044-25dc-42b7-aba0-728e69ad52ad",
   "metadata": {},
   "outputs": [],
   "source": [
    "while True:\n",
    "    # Capture frame-by-frame\n",
    "    success, imgOriginal = cap.read()\n",
    "    if not success:\n",
    "        print(\"Failed to capture image\")\n",
    "        break\n",
    "\n",
    "    # Detect faces in the frame\n",
    "    faces = facedetect.detectMultiScale(imgOriginal, 1.3, 5)\n",
    "    for x, y, w, h in faces:\n",
    "        # Crop and preprocess the face region\n",
    "        crop_img = imgOriginal[y:y + h, x:x + w]\n",
    "        img = cv2.resize(crop_img, (224, 224))\n",
    "        img = img.astype('float32') / 255.0  # Normalize the image\n",
    "        img = np.expand_dims(img, axis=0)  # Add batch dimension\n",
    "\n",
    "        try:\n",
    "            # Make a prediction\n",
    "            prediction = model.predict(img)\n",
    "            classIndex = np.argmax(prediction)\n",
    "            probabilityValue = np.amax(prediction)\n",
    "\n",
    "            # Draw rectangle and put text for detected face\n",
    "            cv2.rectangle(imgOriginal, (x, y), (x + w, y + h), (0, 255, 0), 2)\n",
    "            cv2.rectangle(imgOriginal, (x, y - 40), (x + w, y), (0, 255, 0), -2)\n",
    "            cv2.putText(imgOriginal, str(get_className(classIndex)), (x, y - 10), font, 0.75, (255, 255, 255), 1,\n",
    "                        cv2.LINE_AA)\n",
    "            cv2.putText(imgOriginal, str(round(probabilityValue * 100, 2)) + \"%\", (x, y - 25), font, 0.75, (255, 255, 255), 1,\n",
    "                        cv2.LINE_AA)\n",
    "        except Exception as e:\n",
    "            print(\"Error during prediction:\", e)\n",
    "\n",
    "    # Display the resulting frame\n",
    "    cv2.imshow(\"Result\", imgOriginal)\n",
    "    k = cv2.waitKey(1)\n",
    "    if k == ord('q'):\n",
    "        break\n",
    "\n",
    "# Release the capture and destroy all windows\n",
    "cap.release()\n",
    "cv2.destroyAllWindows()"
   ]
  }
 ],
 "metadata": {
  "kernelspec": {
   "display_name": "Python 3 (ipykernel)",
   "language": "python",
   "name": "python3"
  },
  "language_info": {
   "codemirror_mode": {
    "name": "ipython",
    "version": 3
   },
   "file_extension": ".py",
   "mimetype": "text/x-python",
   "name": "python",
   "nbconvert_exporter": "python",
   "pygments_lexer": "ipython3",
   "version": "3.12.2"
  }
 },
 "nbformat": 4,
 "nbformat_minor": 5
}
